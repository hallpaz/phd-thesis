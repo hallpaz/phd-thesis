{
 "cells": [
  {
   "cell_type": "code",
   "execution_count": 22,
   "metadata": {},
   "outputs": [],
   "source": [
    "from PIL import Image\n",
    "import numpy as np\n",
    "from skimage.transform import resize, rescale\n",
    "from scipy.ndimage import gaussian_filter"
   ]
  },
  {
   "cell_type": "code",
   "execution_count": 23,
   "metadata": {},
   "outputs": [],
   "source": [
    "img = Image.open('E:\\Workspace\\impa\\phd-thesis\\data\\img\\\\two_macaws.png')"
   ]
  },
  {
   "cell_type": "code",
   "execution_count": 24,
   "metadata": {},
   "outputs": [],
   "source": [
    "arr_img = np.array(img, np.float32)"
   ]
  },
  {
   "cell_type": "code",
   "execution_count": 25,
   "metadata": {},
   "outputs": [
    {
     "data": {
      "text/plain": [
       "(512, 512, 3)"
      ]
     },
     "execution_count": 25,
     "metadata": {},
     "output_type": "execute_result"
    }
   ],
   "source": [
    "arr_img.shape"
   ]
  },
  {
   "cell_type": "code",
   "execution_count": 26,
   "metadata": {},
   "outputs": [],
   "source": [
    "levels = 5\n",
    "tower = [arr_img]\n",
    "while len(tower) < levels:\n",
    "    tower.append(\n",
    "        gaussian_filter(tower[-1], 2**(len(tower)-1) * 2 / 3, mode='constant')\n",
    "        )"
   ]
  },
  {
   "cell_type": "code",
   "execution_count": 27,
   "metadata": {},
   "outputs": [],
   "source": [
    "hop = np.hstack([img.astype(np.uint8) for img in tower])\n",
    "Image.fromarray(hop).save(\"exp3.png\")"
   ]
  },
  {
   "cell_type": "code",
   "execution_count": 6,
   "metadata": {},
   "outputs": [],
   "source": [
    "pyramid = [arr_img]\n",
    "for i, img in enumerate(tower[1:], start=1):\n",
    "    pyramid.append(rescale(img, 1 / (2**i), anti_aliasing=False))\n"
   ]
  },
  {
   "cell_type": "code",
   "execution_count": 7,
   "metadata": {},
   "outputs": [
    {
     "data": {
      "text/plain": [
       "5"
      ]
     },
     "execution_count": 7,
     "metadata": {},
     "output_type": "execute_result"
    }
   ],
   "source": [
    "len(pyramid)"
   ]
  },
  {
   "cell_type": "code",
   "execution_count": 9,
   "metadata": {},
   "outputs": [],
   "source": [
    "Image.fromarray(pyramid[-1].astype(np.uint8)).save(\"tosco.png\")"
   ]
  },
  {
   "cell_type": "code",
   "execution_count": null,
   "metadata": {},
   "outputs": [],
   "source": [
    "base_signal = ImageSignal.init_fromfile(\n",
    "                        hyper['data_path'],\n",
    "                        domain=hyper['domain'],\n",
    "                        channels=hyper['channels'],\n",
    "                        sampling_scheme=hyper['sampling_scheme'],\n",
    "                        width=hyper['width'], height=hyper['height'],\n",
    "                        batch_size=hyper['batch_size'],\n",
    "                        color_space=hyper['color_space'])"
   ]
  },
  {
   "cell_type": "code",
   "execution_count": null,
   "metadata": {},
   "outputs": [],
   "source": [
    "def create_MR_strutures(base_signal, max_stages, \n",
    "                       decimation, pmode='constant', \n",
    "                       filter='gaussian', sigma=2/3):\n",
    "    tower = [base_signal]\n",
    "    while len(tower) < max_stages:\n",
    "        tower.append(\n",
    "            gaussian_filter(tower[-1], 2**(len(tower)-1) * sigma, mode=pmode)\n",
    "        )\n",
    "    if decimation:\n",
    "        pyramid = [tower[0]]\n",
    "        for i, signal in enumerate(tower[1:], start=1):\n",
    "            pyramid.append(rescale(signal, 1 / (2**i), anti_aliasing=False))\n",
    "        return pyramid, tower\n",
    "    return tower, tower"
   ]
  },
  {
   "cell_type": "code",
   "execution_count": 20,
   "metadata": {},
   "outputs": [],
   "source": [
    "from scipy import misc"
   ]
  },
  {
   "cell_type": "code",
   "execution_count": 21,
   "metadata": {},
   "outputs": [
    {
     "name": "stderr",
     "output_type": "stream",
     "text": [
      "C:\\Users\\hallpaz\\AppData\\Local\\Temp\\ipykernel_4404\\498508099.py:1: DeprecationWarning: scipy.misc.face has been deprecated in SciPy v1.10.0; and will be completely removed in SciPy v1.12.0. Dataset methods have moved into the scipy.datasets module. Use scipy.datasets.face instead.\n",
      "  misc.face().shape\n"
     ]
    },
    {
     "data": {
      "text/plain": [
       "(768, 1024, 3)"
      ]
     },
     "execution_count": 21,
     "metadata": {},
     "output_type": "execute_result"
    }
   ],
   "source": [
    "misc.face().shape"
   ]
  },
  {
   "cell_type": "code",
   "execution_count": null,
   "metadata": {},
   "outputs": [],
   "source": []
  }
 ],
 "metadata": {
  "kernelspec": {
   "display_name": "venv",
   "language": "python",
   "name": "python3"
  },
  "language_info": {
   "codemirror_mode": {
    "name": "ipython",
    "version": 3
   },
   "file_extension": ".py",
   "mimetype": "text/x-python",
   "name": "python",
   "nbconvert_exporter": "python",
   "pygments_lexer": "ipython3",
   "version": "3.11.5"
  }
 },
 "nbformat": 4,
 "nbformat_minor": 2
}
